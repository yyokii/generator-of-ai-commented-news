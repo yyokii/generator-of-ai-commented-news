{
  "nbformat": 4,
  "nbformat_minor": 0,
  "metadata": {
    "colab": {
      "provenance": [],
      "authorship_tag": "ABX9TyN+DsF4XRRtcOuZ6bW8kJ9c",
      "include_colab_link": true
    },
    "kernelspec": {
      "name": "python3",
      "display_name": "Python 3"
    },
    "language_info": {
      "name": "python"
    }
  },
  "cells": [
    {
      "cell_type": "markdown",
      "metadata": {
        "id": "view-in-github",
        "colab_type": "text"
      },
      "source": [
        "<a href=\"https://colab.research.google.com/github/yyokii/generator-of-ai-commented-news/blob/main/AISummary.ipynb\" target=\"_parent\"><img src=\"https://colab.research.google.com/assets/colab-badge.svg\" alt=\"Open In Colab\"/></a>"
      ]
    },
    {
      "cell_type": "code",
      "execution_count": null,
      "metadata": {
        "colab": {
          "base_uri": "https://localhost:8080/"
        },
        "id": "yzMGnKLV8hA2",
        "outputId": "c23efff7-a7c5-4926-d081-1d67f3256425"
      },
      "outputs": [
        {
          "output_type": "stream",
          "name": "stdout",
          "text": [
            "Python 3.10.12\n"
          ]
        }
      ],
      "source": [
        "!python --version"
      ]
    },
    {
      "cell_type": "code",
      "source": [
        "!pip install feedparser\n",
        "!pip install langchain\n",
        "!pip install openai\n",
        "!pip install requests BeautifulSoup4\n",
        "!pip install pyyaml\n",
        "!pip install langid"
      ],
      "metadata": {
        "id": "oIWJmrcP9NLe"
      },
      "execution_count": null,
      "outputs": []
    },
    {
      "cell_type": "code",
      "source": [
        "# print(feedparser.__version__)"
      ],
      "metadata": {
        "id": "NJDYdxubBmbJ"
      },
      "execution_count": null,
      "outputs": []
    },
    {
      "cell_type": "code",
      "source": [
        "import os\n",
        "import getpass\n",
        "\n",
        "os.environ[\"OPENAI_API_KEY\"] = getpass.getpass(prompt = 'OPEN API KEY ')"
      ],
      "metadata": {
        "id": "qlWYI-GQEFIN"
      },
      "execution_count": null,
      "outputs": []
    },
    {
      "cell_type": "code",
      "source": [
        "import feedparser\n",
        "from html import unescape\n",
        "import re\n",
        "\n",
        "def get_feed(url, site_name):\n",
        "    feed = feedparser.parse(url)\n",
        "    articles = []\n",
        "    for entry in feed.entries:\n",
        "        content = entry.get('content', [{}])[0].get('value', '')\n",
        "        clean_content = unescape(re.sub('<.*?>', '', content))  # HTMLタグを削除\n",
        "        article = {\n",
        "            'site': site_name,\n",
        "            'title': entry.title,\n",
        "            'link': entry.link,\n",
        "            'updated': entry.updated,\n",
        "            'content': clean_content,\n",
        "            'comments': [],\n",
        "        }\n",
        "        articles.append(article)\n",
        "    return articles\n"
      ],
      "metadata": {
        "id": "2SnmMb-49SRO"
      },
      "execution_count": null,
      "outputs": []
    },
    {
      "cell_type": "code",
      "source": [
        "rss_feeds = {\n",
        "    \"CNN\": \"https://assets.wor.jp/rss/rdf/reuters/technology.rdf\",\n",
        "    \"TechCrunch\": \"https://techcrunch.com/feed/\",\n",
        "    \"The Verge\": \"https://www.theverge.com/rss/index.xml\",\n",
        "    \"WIRED\": \"https://www.wired.com/feed/rss\",\n",
        "    \"CNET\": \"http://feeds.japan.cnet.com/rss/cnet/all.rdf?_gl=1*1u1m776*_ga*MTAzMjc1MDQ2NS4xNjg2ODAxNjU1*_ga_JGFXZS6RMN*MTY4NjgwMTY1NS4xLjEuMTY4NjgwMTY1OC41Ny4wLjA.\",\n",
        "    \"Ars Technica\": \"https://feeds.arstechnica.com/arstechnica/index\"\n",
        "}"
      ],
      "metadata": {
        "id": "kVqUXkexYMzl"
      },
      "execution_count": null,
      "outputs": []
    },
    {
      "cell_type": "code",
      "source": [
        "# すべてのrssを取得し、article配列を作成する\n",
        "\n",
        "all_articles = []\n",
        "\n",
        "for site_name, url in rss_feeds.items():\n",
        "    site_articles = get_feed(url, site_name)\n",
        "    all_articles.extend(site_articles)"
      ],
      "metadata": {
        "id": "5zfRFthb1Lxj"
      },
      "execution_count": null,
      "outputs": []
    },
    {
      "cell_type": "code",
      "source": [
        "titles = ', '.join([article['title'] for article in all_articles])"
      ],
      "metadata": {
        "id": "5HpESRj3nLP1"
      },
      "execution_count": null,
      "outputs": []
    },
    {
      "cell_type": "code",
      "source": [
        "print(titles)"
      ],
      "metadata": {
        "id": "0_JgIuMJnSQA"
      },
      "execution_count": null,
      "outputs": []
    },
    {
      "cell_type": "code",
      "source": [
        "from langchain.chat_models import ChatOpenAI\n",
        "\n",
        "llm = ChatOpenAI(model_name=\"gpt-4\", temperature=.7, max_tokens=500)"
      ],
      "metadata": {
        "id": "e-p9CI1gn5oo"
      },
      "execution_count": null,
      "outputs": []
    },
    {
      "cell_type": "code",
      "source": [
        "# 魅力的なタイトルをピックアップ\n",
        "import openai\n",
        "import json\n",
        "\n",
        "schema = {\n",
        "    \"type\": \"object\",\n",
        "    \"properties\": {\n",
        "        \"title\": {\n",
        "            \"type\": \"array\",\n",
        "            \"items\": { \"type\": \"string\" }\n",
        "        }\n",
        "    },\n",
        "    \"required\": [\"title\"]\n",
        "}\n",
        "\n",
        "openai.api_key = os.getenv(\"OPENAI_API_KEY\")\n",
        "\n",
        "completion = openai.ChatCompletion.create(\n",
        "  model=\"gpt-4-0613\",\n",
        "  messages=[\n",
        "    {\"role\": \"system\", \"content\": \"You are a professional editor.\"},\n",
        "    {\"role\": \"user\", \"content\": f\"\"\"\n",
        "    You are a professional editor.\n",
        "    List the titles of the articles and select 5 of them that you think would be of interest to creators and engineers.\n",
        "\n",
        "    Input titles are ${titles}\n",
        "\n",
        "    # Constraints:\n",
        "    * The number of elements in the title array is 5. Please select only attractive titles.\n",
        "    * Do not select similar titles.\n",
        "    * For example, the following articles are attractive.\n",
        "      * Articles about the latest research or technology\n",
        "      * Articles about security incidents/accidents\n",
        "      * Innovative product or service release\n",
        "      * Updates on popular products, services, or libraries\n",
        "      * Anything about anything other than the above, you may choose if you find it appealing.\n",
        "    \"\"\"}\n",
        "  ],\n",
        "  functions=[{\"name\": \"pick_titles\", \"parameters\": schema}],\n",
        "  function_call={\"name\": \"pick_titles\"},\n",
        "  temperature=0.8,\n",
        ")\n",
        "\n",
        "data = json.loads(completion.choices[0].message.function_call.arguments)\n",
        "selected_titles = data[\"title\"]\n",
        "print(selected_titles)\n",
        "print(len(selected_titles))"
      ],
      "metadata": {
        "id": "vvKfcMoy3uld"
      },
      "execution_count": null,
      "outputs": []
    },
    {
      "cell_type": "code",
      "source": [
        "selected_articles = [article for article in all_articles if article['title'] in selected_titles]\n",
        "if len(selected_articles) != 5:\n",
        "    print(\"⚠️ 選ばれた記事が5件未満です\")"
      ],
      "metadata": {
        "id": "ui4o0tEJoexQ"
      },
      "execution_count": null,
      "outputs": []
    },
    {
      "cell_type": "code",
      "source": [
        "from bs4 import BeautifulSoup\n",
        "import requests\n",
        "\n",
        "# CNNの記事を取得\n",
        "def get_cnn_article_text(url):\n",
        "    response = requests.get(url)\n",
        "    soup = BeautifulSoup(response.text, 'html.parser')\n",
        "\n",
        "    # ここで記事の本文が<p class=\"Paragraph-paragraph-2Bgue ArticleBody-para-TD_9x\">タグに囲まれている\n",
        "    paragraphs = soup.find_all('p', {\"class\": \"Paragraph-paragraph-2Bgue ArticleBody-para-TD_9x\"})\n",
        "\n",
        "    # 各段落のテキストを結合\n",
        "    article_text = '\\n'.join([p.text for p in paragraphs])\n",
        "\n",
        "    return article_text\n",
        "\n",
        "def update_cnn_articles_with_text(articles):\n",
        "    for article in articles:\n",
        "        article['content'] = get_cnn_article_text(article['link'])\n",
        "\n",
        "# wiredの記事を取得\n",
        "def get_wired_article_text(url):\n",
        "    response = requests.get(url)\n",
        "    soup = BeautifulSoup(response.text, 'html.parser')\n",
        "\n",
        "    # \"lead-in-text-callout\"クラスを持つspanタグの親のpタグの内容を取得\n",
        "    lead_in_text = [p.text for p in soup.find_all('p') if p.find('span', class_='lead-in-text-callout')]\n",
        "\n",
        "    # \"paywall\"クラスを持つタグの内容を取得\n",
        "    paywall_text = [p.text for p in soup.find_all('p', class_='paywall')]\n",
        "\n",
        "    article_text = ' '.join(lead_in_text + paywall_text)\n",
        "\n",
        "    return article_text\n",
        "\n",
        "def update_wired_articles_with_text(articles):\n",
        "    for article in articles:\n",
        "        article['content'] = get_wired_article_text(article['link'])\n",
        "\n",
        "# the vergeの記事を取得\n",
        "def get_verge_article_text(url):\n",
        "    response = requests.get(url)\n",
        "    soup = BeautifulSoup(response.text, 'html.parser')\n",
        "\n",
        "    article_body_components = soup.find_all('div', {'class': 'duet--article--article-body-component'})\n",
        "    article_body_text = [p.text for component in article_body_components for p in component.find_all('p')]\n",
        "\n",
        "    article_text = ' '.join(article_body_text)\n",
        "\n",
        "    return article_text\n",
        "\n",
        "def update_verge_articles_with_text(articles):\n",
        "    for article in articles:\n",
        "        article['content'] = get_verge_article_text(article['link'])\n",
        "\n",
        "# cnetの記事を取得\n",
        "def get_cnet_article_text(url):\n",
        "    response = requests.get(url)\n",
        "    soup = BeautifulSoup(response.text, 'html.parser')\n",
        "\n",
        "    article_body = soup.find('div', {'id': 'NWrelart:Body'})\n",
        "\n",
        "    if article_body is not None:\n",
        "        p_tags = article_body.find_all('p')\n",
        "\n",
        "        # Get the text from each p tag and join them together.\n",
        "        text = ' '.join(tag.get_text() for tag in p_tags)\n",
        "        return text\n",
        "    else:\n",
        "        return ''\n",
        "\n",
        "def update_cnet_articles_with_text(articles):\n",
        "    for article in articles:\n",
        "        article['content'] = get_cnet_article_text(article['link'])\n",
        "\n",
        "# ars techinicaの記事を取得\n",
        "def get_ars_techinica_article_text(url):\n",
        "    response = requests.get(url)\n",
        "    soup = BeautifulSoup(response.text, 'html.parser')\n",
        "\n",
        "    article_body = soup.find('div', {'itemprop': 'articleBody', 'class': 'article-content post-page'})\n",
        "\n",
        "    if article_body is not None:\n",
        "        p_tags = article_body.find_all('p')\n",
        "\n",
        "        # Get the text from each p tag and join them together.\n",
        "        text = ' '.join(tag.get_text() for tag in p_tags)\n",
        "        return text\n",
        "    else:\n",
        "        return ''\n",
        "\n",
        "def update_ars_techinica_articles_with_text(articles):\n",
        "    for article in articles:\n",
        "        article['content'] = get_ars_techinica_article_text(article['link'])"
      ],
      "metadata": {
        "id": "g2xwK-I3YQXl"
      },
      "execution_count": null,
      "outputs": []
    },
    {
      "cell_type": "code",
      "source": [
        "# クロールし、articleを更新する\n",
        "\n",
        "for article in selected_articles:\n",
        "  if article[\"site\"] == \"CNN\":\n",
        "    article['content'] = get_cnn_article_text(article['link'])\n",
        "  elif article[\"site\"] == \"The Verge\":\n",
        "    article['content'] = get_verge_article_text(article['link'])\n",
        "  elif article[\"site\"] == \"WIRED\":\n",
        "    article['content'] = get_wired_article_text(article['link'])\n",
        "  elif article[\"site\"] == \"CNET\":\n",
        "    article['content'] = get_cnet_article_text(article['link'])\n",
        "  elif article[\"site\"] == \"Ars Technica\":\n",
        "    article['content'] = get_ars_techinica_article_text(article['link'])\n",
        "  else :\n",
        "    print(\"TechCrunch article\")\n",
        "\n",
        "# selected_articlesのそれぞれの記事のcontentを確認\n",
        "for article in selected_articles:\n",
        "    if not article['content']:\n",
        "        # contentが空である場合、記事の情報を出力\n",
        "        print(f\"Article from {article['site']} with title '{article['title']}' has empty content.\")"
      ],
      "metadata": {
        "id": "vfV-Vv_3rUYN"
      },
      "execution_count": null,
      "outputs": []
    },
    {
      "cell_type": "code",
      "source": [
        "import langid\n",
        "\n",
        "def is_japanese(text):\n",
        "    lang, _ = langid.classify(text)\n",
        "    return lang == 'ja'"
      ],
      "metadata": {
        "id": "z0So-sH3QwAL"
      },
      "execution_count": null,
      "outputs": []
    },
    {
      "cell_type": "code",
      "source": [
        "import openai\n",
        "import json\n",
        "\n",
        "openai.api_key = os.getenv(\"OPENAI_API_KEY\")\n",
        "\n",
        "schema = {\n",
        "    \"type\": \"object\",\n",
        "    \"type\": \"object\",\n",
        "    \"properties\": {\n",
        "        \"translatedTitle\": {\n",
        "            \"type\": \"string\"\n",
        "        }\n",
        "    },\n",
        "    \"required\": [\"translatedTitle\"]\n",
        "}\n",
        "\n",
        "\n",
        "def translate(text):\n",
        "  completion = openai.ChatCompletion.create(\n",
        "      model=\"gpt-4-0613\",\n",
        "      messages=[\n",
        "          {\"role\": \"system\", \"content\": \"You are a professional translator.\"},\n",
        "           {\"role\": \"user\", \"content\": f\"Please translate the title ${text} into Japanese.\"}\n",
        "          ],\n",
        "      functions=[{\"name\": \"traslate\", \"parameters\": schema}],\n",
        "      function_call={\"name\": \"traslate\"},\n",
        "      temperature=0.9,\n",
        "  )\n",
        "  data = json.loads(completion.choices[0].message.function_call.arguments)\n",
        "  return data[\"translatedTitle\"]\n"
      ],
      "metadata": {
        "id": "QSUC9csESwgs"
      },
      "execution_count": null,
      "outputs": []
    },
    {
      "cell_type": "code",
      "source": [
        "# 日本語でないタイトルがあれば翻訳\n",
        "\n",
        "for article in selected_articles:\n",
        "  title = article[\"title\"]\n",
        "  if not is_japanese(title):\n",
        "    print(title)\n",
        "    japanese_title = translate(title)\n",
        "    article[\"title\"] = japanese_title\n",
        "    print(japanese_title)"
      ],
      "metadata": {
        "id": "ujhE0mhhS2QT"
      },
      "execution_count": null,
      "outputs": []
    },
    {
      "cell_type": "code",
      "source": [
        "print(selected_titles)\n",
        "\n",
        "print(selected_titles)\n",
        "for i in selected_articles:\n",
        "  print(i[\"title\"])"
      ],
      "metadata": {
        "id": "ysscnkTDbQ13"
      },
      "execution_count": null,
      "outputs": []
    },
    {
      "cell_type": "code",
      "source": [
        "# 要約の生成\n",
        "\n",
        "from langchain.llms import OpenAI\n",
        "from langchain.chains import LLMChain\n",
        "from langchain.prompts import PromptTemplate\n",
        "\n",
        "summary_template = \"\"\"\n",
        "# Instructions:\n",
        "You are a professional editor.\n",
        "Please output the best summary based on the following constraints and input statements.\n",
        "\n",
        "# Constraints:\n",
        "* Two items regarding legal compliance must be observed.\n",
        "  1. translating the entire text is a copyright infringement and will result in litigation issues. Please summarize the main points of the news in a concise manner. 2.\n",
        "  2. writing speculation other than what is written in the article is considered spreading rumors and can lead to litigation. Never write anything other than what is written in the article.\n",
        "* Language is Japanese.\n",
        "* The maximum number of characters is 800. If the original text is shorter than that, please summarize it shorter than that.\n",
        "* Do not leave out important keywords.\n",
        "* Keep sentences concise.\n",
        "\n",
        "# Input text:\n",
        "{article}\n",
        "\n",
        "# Output sentence:\n",
        "\"\"\"\n",
        "\n",
        "prompt_template = PromptTemplate(input_variables=[\"article\"], template=summary_template)\n",
        "summary_chain = LLMChain(llm=llm, prompt=prompt_template)"
      ],
      "metadata": {
        "id": "95KVqRYJDmIZ"
      },
      "execution_count": null,
      "outputs": []
    },
    {
      "cell_type": "code",
      "source": [
        "for article in selected_articles:\n",
        "  print(article[\"title\"] + \" の要約\\n\")\n",
        "  summary = summary_chain.run(article[\"content\"])\n",
        "  print(summary)\n",
        "  print(\"------\")\n",
        "  article[\"summary\"] = summary"
      ],
      "metadata": {
        "id": "ZwXGqPsMbsbO"
      },
      "execution_count": null,
      "outputs": []
    },
    {
      "cell_type": "code",
      "source": [
        "# コメンテーターの生成（openaiのfunctional calling）\n",
        "\n",
        "import openai\n",
        "import json\n",
        "\n",
        "schema = {\n",
        "  \"type\": \"object\",\n",
        "  \"properties\": {\n",
        "    \"commentators\": {\n",
        "      \"type\": \"array\",\n",
        "      \"items\": {\n",
        "        \"person\": \"object\",\n",
        "        \"properties\": {\n",
        "          \"name\": { \"type\": \"string\" },\n",
        "          \"title\": { \"type\": \"string\" },\n",
        "          \"age\": { \"type\": \"number\" },\n",
        "          \"sex\": { \"type\": \"string\" }\n",
        "        },\n",
        "        \"required\": [\"name\", \"title\", \"age\", \"sex\"]\n",
        "      }\n",
        "    }\n",
        "  },\n",
        "  \"required\": [\"commentators\"]\n",
        "}\n",
        "\n",
        "openai.api_key = os.getenv(\"OPENAI_API_KEY\")\n",
        "\n",
        "completion = openai.ChatCompletion.create(\n",
        "  model=\"gpt-4-0613\",\n",
        "  messages=[\n",
        "    {\"role\": \"system\", \"content\": \"You are a professional editor.\"},\n",
        "    {\"role\": \"user\", \"content\": \"\"\"\n",
        "    Please generate name, title, age and sex of 10 commentators.\n",
        "    The names can be Japanese or other. Please make sure that the names of the commentators are Japanese or not. Nicknames are acceptable. Please set them randomly.\n",
        "    Examples of titles are\n",
        "    software engineer, 研究者, 経済学者, 歴史家, 哲学者, デザイナー, お笑い芸人, 小学生, 中学生, 高校生, 大学生, 主婦\n",
        "    and so on. You can use any of the titles listed here or any others.\n",
        "    It can be any person, from historical figures to ordinary people. Try to choose people from a variety of backgrounds for your output.\n",
        "    Please include at least one person with a non-academic title such as comedian, child, housewife, etc.\n",
        "    All output should be in Japanese. Names can be in alphabetical or Japanese, whichever is appropriate.\n",
        "    \"\"\"}\n",
        "  ],\n",
        "  functions=[{\"name\": \"create_commentators\", \"parameters\": schema}],\n",
        "  function_call={\"name\": \"create_commentators\"},\n",
        "  temperature=0.9,\n",
        ")\n",
        "\n",
        "data = json.loads(completion.choices[0].message.function_call.arguments)\n",
        "commentators = data[\"commentators\"]\n",
        "\n",
        "for commentator in commentators:\n",
        "    print(commentator)"
      ],
      "metadata": {
        "id": "PGm4KOVz4Bxw"
      },
      "execution_count": null,
      "outputs": []
    },
    {
      "cell_type": "code",
      "source": [
        "# レビューの生成\n",
        "\n",
        "review_template = \"\"\"\n",
        "# INSTRUCTIONS:\n",
        "You are {person}.\n",
        "Based on the following constraints and the content of the article, please output your opinion on this content based on your findings.\n",
        "\n",
        "# Constraints:.\n",
        "* Language is Japanese\n",
        "* At least 10 words, 200 at most\n",
        "* The way you say the words and write the comments should be appropriate to the characteristics of your gender, age, and title.\n",
        "* Please output your opinion as a {person}, not a general opinion.\n",
        "* Do not include the contents of the input text, but mainly describe your impressions and opinions about the contents of the input text.\n",
        "* You may mention not only the content of the input statement, but also any topics related to it\n",
        "* Try to provide new information that is not available from the input statement. Please base your comments on your past experiences and findings.\n",
        "\n",
        "# Input Sentence:\n",
        "{article}\n",
        "\n",
        "# Output statement:\n",
        "\"\"\"\n",
        "\n",
        "prompt_template = PromptTemplate(input_variables=[\"person\", \"article\"], template=review_template)\n",
        "review_chain = LLMChain(llm=llm, prompt=prompt_template)"
      ],
      "metadata": {
        "id": "gOPpG732cr-G"
      },
      "execution_count": null,
      "outputs": []
    },
    {
      "cell_type": "code",
      "source": [
        "import random\n",
        "\n",
        "for article in selected_articles:\n",
        "  selected_commentators = random.sample(commentators, 3)\n",
        "  print(article[\"title\"])\n",
        "  for commentator in selected_commentators:\n",
        "    person = \"{title} of {age} year old {sex}\".format(**commentator)\n",
        "    print(f\"{person}のコメント生成\")\n",
        "    generated_comment = review_chain.run({\n",
        "    'person': person,\n",
        "    'article': article[\"content\"]\n",
        "    })\n",
        "    print(generated_comment)\n",
        "    comment = {\n",
        "    'commentator': commentator,\n",
        "    'text': generated_comment,\n",
        "    }\n",
        "    article[\"comments\"].append(comment)\n",
        "  print(\"------\")\n"
      ],
      "metadata": {
        "id": "zLtNajM2emvW"
      },
      "execution_count": null,
      "outputs": []
    },
    {
      "cell_type": "code",
      "source": [
        "# dateをISO形式にする\n",
        "from datetime import datetime\n",
        "import re\n",
        "\n",
        "def is_iso_format(date_string):\n",
        "  \"\"\"Check if the given date string is in ISO 8601 format.\"\"\"\n",
        "  return bool(re.match(r'\\d{4}-\\d{2}-\\d{2}T\\d{2}:\\d{2}:\\d{2}([+-]\\d{2}:\\d{2})?', date_string))\n",
        "\n",
        "\n",
        "def convert_to_iso(date_string):\n",
        "  date_object = datetime.strptime(date_string, \"%a, %d %b %Y %H:%M:%S %z\")\n",
        "  iso_format_date = date_object.isoformat()\n",
        "  print(f\"{date_string} converted to ISO format: {iso_format_date}\")\n",
        "  return iso_format_date"
      ],
      "metadata": {
        "id": "9M4wOh_Pu_sr"
      },
      "execution_count": null,
      "outputs": []
    },
    {
      "cell_type": "code",
      "source": [
        "for article in selected_articles:\n",
        "  date = article[\"updated\"]\n",
        "  if not is_iso_format(date):\n",
        "    article[\"updated\"] = convert_to_iso(date)"
      ],
      "metadata": {
        "id": "L45s_TP6wwQr"
      },
      "execution_count": null,
      "outputs": []
    },
    {
      "cell_type": "code",
      "source": [
        "import yaml\n",
        "import os\n",
        "\n",
        "if not os.path.exists('posts'):\n",
        "    os.makedirs('posts')\n",
        "\n",
        "# articleオブジェクトの定義\n",
        "article = {\n",
        "    'site': 'Site',\n",
        "    'title': 'Learn How to Pre-render Pages Using Static Generation with Next.js',\n",
        "    'link': 'https://www.site.com',\n",
        "    'updated': '2020-03-16T05:35:07.322Z',\n",
        "    'content': 'Lorem ipsum dolor sit amet, consectetur adipiscing elit, sed do eiusmod tempor fasfaf',\n",
        "    'comments': [\n",
        "        {\n",
        "            'commentator': {'name': 'Commenter1', 'title': 'Comedian', 'age': 30, 'sex': 'male'},\n",
        "            'text': 'This is a comment.'\n",
        "        },\n",
        "        {\n",
        "            'commentator': {'name': 'Commenter2', 'title': 'Comedian', 'age': 40, 'sex': 'female'},\n",
        "            'text': 'This is another comment.'\n",
        "        },\n",
        "    ]\n",
        "}\n",
        "\n",
        "def output_file(article):\n",
        "  # ファイル名を作成（ここではタイトルを使用）\n",
        "  filename = article['title'].replace(' ', '_') + '.md'\n",
        "\n",
        "  # YAML部分を作成\n",
        "  yaml_part = {\n",
        "      'title': article['title'],\n",
        "      'site': article['site'],\n",
        "      'link': article['link'],\n",
        "      'coverImage': '/assets/post-cover/',\n",
        "      'date': article['updated'],\n",
        "      'ogImage': {'url': '/assets/post-cover/'},\n",
        "      'comments': article['comments']\n",
        "  }\n",
        "\n",
        "  # YAML形式のテキストに変換\n",
        "  yaml_text = yaml.dump(yaml_part, allow_unicode=True)\n",
        "\n",
        "  # 最終的なMarkdownテキストを作成\n",
        "  md_text = '---\\n' + yaml_text + '---\\n\\n' + article['summary']\n",
        "\n",
        "  file_path = os.path.join('posts', f\"{article['title']}.md\")\n",
        "\n",
        "  # ファイルを書き込みモードで開き、内容を書き込む\n",
        "  with open(file_path, 'w', encoding='utf-8') as f:\n",
        "      f.write(md_text)\n",
        "\n",
        "for article in selected_articles:\n",
        "  output_file(article)"
      ],
      "metadata": {
        "id": "GlYzRbeidZL9"
      },
      "execution_count": null,
      "outputs": []
    },
    {
      "cell_type": "code",
      "source": [
        "!zip -r /content/posts.zip /content/posts\n",
        "\n",
        "from google.colab import files\n",
        "files.download(\"/content/posts.zip\")\n"
      ],
      "metadata": {
        "id": "E7VBy_GMmMZI"
      },
      "execution_count": null,
      "outputs": []
    }
  ]
}